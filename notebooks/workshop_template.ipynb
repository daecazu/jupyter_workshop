{
 "cells": [
  {
   "cell_type": "markdown",
   "id": "6d5ff74f",
   "metadata": {},
   "source": [
    "# Workshop - Data Analytics"
   ]
  },
  {
   "cell_type": "markdown",
   "id": "dd17e799",
   "metadata": {},
   "source": [
    "#### Introduction to Jupyter notebook and pandas library"
   ]
  },
  {
   "cell_type": "markdown",
   "id": "47b34676-3f94-4022-b1df-bb9c1f38f69e",
   "metadata": {},
   "source": [
    "Begin with a software check of Python version"
   ]
  },
  {
   "cell_type": "code",
   "execution_count": 1,
   "id": "34f47617-1ed1-4e69-b68d-dcd32cb6da6d",
   "metadata": {},
   "outputs": [
    {
     "name": "stdout",
     "output_type": "stream",
     "text": [
      "Python: 3.10.6 | packaged by conda-forge | (main, Aug 22 2022, 20:35:26) [GCC 10.4.0]\n"
     ]
    }
   ],
   "source": [
    "import sys\n",
    "print('Python: {}'.format(sys.version))"
   ]
  },
  {
   "cell_type": "markdown",
   "id": "ef4dc8b8-1918-43fe-8f64-9f962995e61d",
   "metadata": {},
   "source": [
    "Load the libraries"
   ]
  },
  {
   "cell_type": "code",
   "execution_count": 2,
   "id": "07531431",
   "metadata": {},
   "outputs": [
    {
     "name": "stdout",
     "output_type": "stream",
     "text": [
      "pandas: 1.3.5\n",
      "matplotlib: 3.5.3\n"
     ]
    }
   ],
   "source": [
    "# pandas\n",
    "import pandas \n",
    "print('pandas: {}'.format(pandas.__version__))\n",
    "# import image module\n",
    "from IPython.display import Image\n",
    "import matplotlib \n",
    "print('matplotlib: {}'.format(matplotlib.__version__))\n",
    "\n",
    "import matplotlib.pyplot as plt\n",
    "import seaborn as sns"
   ]
  },
  {
   "cell_type": "markdown",
   "id": "13591bf3-760e-4008-a8dc-f0b617fa5d10",
   "metadata": {
    "tags": []
   },
   "source": [
    "### Definitions:\n",
    "Dataframe: A DataFrame is a data structure that organizes data into a 2-dimensional table of rows and columns, much like a spreadsheet."
   ]
  },
  {
   "cell_type": "code",
   "execution_count": 3,
   "id": "705792e3-4337-44df-ae21-c62f20f7344a",
   "metadata": {},
   "outputs": [
    {
     "data": {
      "text/html": [
       "<img src=\"dataframe.png\" width=\"600\" height=\"600\"/>"
      ],
      "text/plain": [
       "<IPython.core.display.Image object>"
      ]
     },
     "execution_count": 3,
     "metadata": {},
     "output_type": "execute_result"
    }
   ],
   "source": [
    "Image(url= \"dataframe.png\", width=600, height=600)"
   ]
  },
  {
   "cell_type": "markdown",
   "id": "d08854e8-d53e-4eba-a553-dde7f91cd0d9",
   "metadata": {},
   "source": [
    "### Load dataset from external source"
   ]
  },
  {
   "cell_type": "markdown",
   "id": "65cf8da5-84ee-4edb-b1b7-bbd0ef38f96e",
   "metadata": {},
   "source": [
    "Load the dataset into a pandas dataframe named 'iris'\n",
    "The dataset resides at the University of California - Irvine.\n",
    "https://archive.ics.uci.edu/ml/datasets/iris\n",
    "The UCI dataset repository has many datasets available for your use.\n",
    "All have been curated and well studied."
   ]
  },
  {
   "cell_type": "code",
   "execution_count": 4,
   "id": "181a4f19-684c-4e6c-b591-816113c005bd",
   "metadata": {},
   "outputs": [],
   "source": [
    "url = \"https://archive.ics.uci.edu/ml/machine-learning-databases/iris/iris.data\""
   ]
  },
  {
   "cell_type": "markdown",
   "id": "5af84ca4-11f1-4900-a375-1f1487d33bfa",
   "metadata": {},
   "source": [
    "Define the names of the variables as we want them"
   ]
  },
  {
   "cell_type": "code",
   "execution_count": 5,
   "id": "77ea671e-2ab9-4671-99c8-64e4c2974985",
   "metadata": {},
   "outputs": [],
   "source": [
    "names = ['length', 'width', 'petal-length', 'petal-width', 'species']\n",
    "iris = pandas.read_csv(url, names=names)"
   ]
  },
  {
   "cell_type": "markdown",
   "id": "f7606f44",
   "metadata": {},
   "source": [
    "### Examine the data"
   ]
  },
  {
   "cell_type": "markdown",
   "id": "3879c5a4-8ffd-44be-a26f-749a82ebb5d9",
   "metadata": {},
   "source": [
    "Identify the type of dataset. Expect it to be a pandas dataframe"
   ]
  },
  {
   "cell_type": "code",
   "execution_count": 6,
   "id": "490d2cbb",
   "metadata": {},
   "outputs": [
    {
     "name": "stdout",
     "output_type": "stream",
     "text": [
      "<class 'pandas.core.frame.DataFrame'>\n"
     ]
    }
   ],
   "source": [
    "print (type(iris))"
   ]
  },
  {
   "cell_type": "markdown",
   "id": "6f3409cc-741c-4160-a814-62359f7d8ce3",
   "metadata": {},
   "source": [
    "Check the shape of the data.\n",
    "(Expect it to be 150 rows and 5 columns)\n"
   ]
  },
  {
   "cell_type": "code",
   "execution_count": 7,
   "id": "dc7ba53b",
   "metadata": {},
   "outputs": [
    {
     "name": "stdout",
     "output_type": "stream",
     "text": [
      "(150, 5)\n"
     ]
    }
   ],
   "source": [
    "print(iris.shape)"
   ]
  },
  {
   "cell_type": "markdown",
   "id": "11b5a135-2ca3-4fa8-bbd8-0899568615e9",
   "metadata": {},
   "source": [
    "Print the first 20 data points -- the head of the dataset"
   ]
  },
  {
   "cell_type": "code",
   "execution_count": 8,
   "id": "55228eb9",
   "metadata": {},
   "outputs": [
    {
     "name": "stdout",
     "output_type": "stream",
     "text": [
      "    length  width  petal-length  petal-width      species\n",
      "0      5.1    3.5           1.4          0.2  Iris-setosa\n",
      "1      4.9    3.0           1.4          0.2  Iris-setosa\n",
      "2      4.7    3.2           1.3          0.2  Iris-setosa\n",
      "3      4.6    3.1           1.5          0.2  Iris-setosa\n",
      "4      5.0    3.6           1.4          0.2  Iris-setosa\n",
      "5      5.4    3.9           1.7          0.4  Iris-setosa\n",
      "6      4.6    3.4           1.4          0.3  Iris-setosa\n",
      "7      5.0    3.4           1.5          0.2  Iris-setosa\n",
      "8      4.4    2.9           1.4          0.2  Iris-setosa\n",
      "9      4.9    3.1           1.5          0.1  Iris-setosa\n",
      "10     5.4    3.7           1.5          0.2  Iris-setosa\n",
      "11     4.8    3.4           1.6          0.2  Iris-setosa\n",
      "12     4.8    3.0           1.4          0.1  Iris-setosa\n",
      "13     4.3    3.0           1.1          0.1  Iris-setosa\n",
      "14     5.8    4.0           1.2          0.2  Iris-setosa\n",
      "15     5.7    4.4           1.5          0.4  Iris-setosa\n",
      "16     5.4    3.9           1.3          0.4  Iris-setosa\n",
      "17     5.1    3.5           1.4          0.3  Iris-setosa\n",
      "18     5.7    3.8           1.7          0.3  Iris-setosa\n",
      "19     5.1    3.8           1.5          0.3  Iris-setosa\n"
     ]
    }
   ],
   "source": [
    "print(iris.head(20))"
   ]
  },
  {
   "cell_type": "markdown",
   "id": "f982c9ed-61c0-4c9a-b1ca-1d7ca8385f91",
   "metadata": {},
   "source": [
    "Print the last 3 data points -- the tail of the dataset"
   ]
  },
  {
   "cell_type": "code",
   "execution_count": 9,
   "id": "b349f709-7606-4944-9a1f-88e332153743",
   "metadata": {},
   "outputs": [
    {
     "name": "stdout",
     "output_type": "stream",
     "text": [
      "     length  width  petal-length  petal-width         species\n",
      "147     6.5    3.0           5.2          2.0  Iris-virginica\n",
      "148     6.2    3.4           5.4          2.3  Iris-virginica\n",
      "149     5.9    3.0           5.1          1.8  Iris-virginica\n"
     ]
    }
   ],
   "source": [
    "print(iris.tail(3))"
   ]
  },
  {
   "cell_type": "markdown",
   "id": "a0139611-8fc3-4d05-bc99-fcd596262d90",
   "metadata": {},
   "source": [
    "Is posible to rename the dataframe columns"
   ]
  },
  {
   "cell_type": "code",
   "execution_count": 10,
   "id": "f4896928",
   "metadata": {},
   "outputs": [
    {
     "data": {
      "text/html": [
       "<div>\n",
       "<style scoped>\n",
       "    .dataframe tbody tr th:only-of-type {\n",
       "        vertical-align: middle;\n",
       "    }\n",
       "\n",
       "    .dataframe tbody tr th {\n",
       "        vertical-align: top;\n",
       "    }\n",
       "\n",
       "    .dataframe thead th {\n",
       "        text-align: right;\n",
       "    }\n",
       "</style>\n",
       "<table border=\"1\" class=\"dataframe\">\n",
       "  <thead>\n",
       "    <tr style=\"text-align: right;\">\n",
       "      <th></th>\n",
       "      <th>sepal-length</th>\n",
       "      <th>sepal-width</th>\n",
       "      <th>petal-length</th>\n",
       "      <th>petal-width</th>\n",
       "      <th>species</th>\n",
       "    </tr>\n",
       "  </thead>\n",
       "  <tbody>\n",
       "    <tr>\n",
       "      <th>0</th>\n",
       "      <td>5.1</td>\n",
       "      <td>3.5</td>\n",
       "      <td>1.4</td>\n",
       "      <td>0.2</td>\n",
       "      <td>Iris-setosa</td>\n",
       "    </tr>\n",
       "    <tr>\n",
       "      <th>1</th>\n",
       "      <td>4.9</td>\n",
       "      <td>3.0</td>\n",
       "      <td>1.4</td>\n",
       "      <td>0.2</td>\n",
       "      <td>Iris-setosa</td>\n",
       "    </tr>\n",
       "    <tr>\n",
       "      <th>2</th>\n",
       "      <td>4.7</td>\n",
       "      <td>3.2</td>\n",
       "      <td>1.3</td>\n",
       "      <td>0.2</td>\n",
       "      <td>Iris-setosa</td>\n",
       "    </tr>\n",
       "    <tr>\n",
       "      <th>3</th>\n",
       "      <td>4.6</td>\n",
       "      <td>3.1</td>\n",
       "      <td>1.5</td>\n",
       "      <td>0.2</td>\n",
       "      <td>Iris-setosa</td>\n",
       "    </tr>\n",
       "    <tr>\n",
       "      <th>4</th>\n",
       "      <td>5.0</td>\n",
       "      <td>3.6</td>\n",
       "      <td>1.4</td>\n",
       "      <td>0.2</td>\n",
       "      <td>Iris-setosa</td>\n",
       "    </tr>\n",
       "  </tbody>\n",
       "</table>\n",
       "</div>"
      ],
      "text/plain": [
       "   sepal-length  sepal-width  petal-length  petal-width      species\n",
       "0           5.1          3.5           1.4          0.2  Iris-setosa\n",
       "1           4.9          3.0           1.4          0.2  Iris-setosa\n",
       "2           4.7          3.2           1.3          0.2  Iris-setosa\n",
       "3           4.6          3.1           1.5          0.2  Iris-setosa\n",
       "4           5.0          3.6           1.4          0.2  Iris-setosa"
      ]
     },
     "execution_count": 10,
     "metadata": {},
     "output_type": "execute_result"
    }
   ],
   "source": [
    "iris = iris.rename(columns={\n",
    "    \"length\": \"sepal-length\", \n",
    "    \"width\": \"sepal-width\"\n",
    "})\n",
    "iris.head()"
   ]
  },
  {
   "cell_type": "markdown",
   "id": "fcaacf64-5af5-4e53-972c-08d2c21d73f8",
   "metadata": {},
   "source": [
    "#### Use the describe function to describe some of the statistical properties of the data.\n",
    "Then to understand basic statistics of variables we can use df.describe(). It will give you count, mean, standard deviation, and also 5 number summary."
   ]
  },
  {
   "cell_type": "code",
   "execution_count": 11,
   "id": "da65d979",
   "metadata": {},
   "outputs": [
    {
     "name": "stdout",
     "output_type": "stream",
     "text": [
      "       sepal-length  sepal-width  petal-length  petal-width\n",
      "count    150.000000   150.000000    150.000000   150.000000\n",
      "mean       5.843333     3.054000      3.758667     1.198667\n",
      "std        0.828066     0.433594      1.764420     0.763161\n",
      "min        4.300000     2.000000      1.000000     0.100000\n",
      "25%        5.100000     2.800000      1.600000     0.300000\n",
      "50%        5.800000     3.000000      4.350000     1.300000\n",
      "75%        6.400000     3.300000      5.100000     1.800000\n",
      "max        7.900000     4.400000      6.900000     2.500000\n"
     ]
    }
   ],
   "source": [
    "print(iris.describe())"
   ]
  },
  {
   "cell_type": "markdown",
   "id": "a18820af-9f61-44d6-aaae-2d8c2b400f95",
   "metadata": {},
   "source": [
    "We can also use df.info(), from that we get different information such as rows from RangeIndex, Data columns and then data type of each column. It also includes the  information of non-null counts."
   ]
  },
  {
   "cell_type": "code",
   "execution_count": 12,
   "id": "4ab1e163-7c8a-42b9-8917-ad78a74ff6f4",
   "metadata": {},
   "outputs": [
    {
     "name": "stdout",
     "output_type": "stream",
     "text": [
      "<class 'pandas.core.frame.DataFrame'>\n",
      "RangeIndex: 150 entries, 0 to 149\n",
      "Data columns (total 5 columns):\n",
      " #   Column        Non-Null Count  Dtype  \n",
      "---  ------        --------------  -----  \n",
      " 0   sepal-length  150 non-null    float64\n",
      " 1   sepal-width   150 non-null    float64\n",
      " 2   petal-length  150 non-null    float64\n",
      " 3   petal-width   150 non-null    float64\n",
      " 4   species       150 non-null    object \n",
      "dtypes: float64(4), object(1)\n",
      "memory usage: 6.0+ KB\n"
     ]
    }
   ],
   "source": [
    "iris.info()"
   ]
  },
  {
   "cell_type": "markdown",
   "id": "598a5c62-4d8e-49f9-95fc-29719e4eb1e9",
   "metadata": {},
   "source": [
    "To know the names of all the variables in a data frame, we can use df.columns."
   ]
  },
  {
   "cell_type": "code",
   "execution_count": 13,
   "id": "45a71d0d-41d8-42b3-a734-13f34edeebb0",
   "metadata": {},
   "outputs": [
    {
     "data": {
      "text/plain": [
       "Index(['sepal-length', 'sepal-width', 'petal-length', 'petal-width',\n",
       "       'species'],\n",
       "      dtype='object')"
      ]
     },
     "execution_count": 13,
     "metadata": {},
     "output_type": "execute_result"
    }
   ],
   "source": [
    "iris.columns"
   ]
  },
  {
   "cell_type": "markdown",
   "id": "235f90a3-fa5f-4dea-aee5-4a1f198308d2",
   "metadata": {},
   "source": [
    "Use the groupby method to determine the class distribution"
   ]
  },
  {
   "cell_type": "code",
   "execution_count": 14,
   "id": "86247c81",
   "metadata": {},
   "outputs": [
    {
     "name": "stdout",
     "output_type": "stream",
     "text": [
      "species\n",
      "Iris-setosa        50\n",
      "Iris-versicolor    50\n",
      "Iris-virginica     50\n",
      "dtype: int64\n"
     ]
    }
   ],
   "source": [
    "print(iris.groupby('species').size())"
   ]
  },
  {
   "cell_type": "markdown",
   "id": "16de2f30",
   "metadata": {},
   "source": [
    "### Selecting data"
   ]
  },
  {
   "cell_type": "code",
   "execution_count": 15,
   "id": "82b0ca51",
   "metadata": {},
   "outputs": [],
   "source": [
    "df = iris.copy()"
   ]
  },
  {
   "cell_type": "markdown",
   "id": "92ed4941-c7c2-4418-9e86-86a081171d93",
   "metadata": {},
   "source": [
    "Selecting a single column, which yields a Series, equivalent to df.A:"
   ]
  },
  {
   "cell_type": "code",
   "execution_count": 16,
   "id": "38570f43",
   "metadata": {},
   "outputs": [
    {
     "data": {
      "text/plain": [
       "0      5.1\n",
       "1      4.9\n",
       "2      4.7\n",
       "3      4.6\n",
       "4      5.0\n",
       "      ... \n",
       "145    6.7\n",
       "146    6.3\n",
       "147    6.5\n",
       "148    6.2\n",
       "149    5.9\n",
       "Name: sepal-length, Length: 150, dtype: float64"
      ]
     },
     "execution_count": 16,
     "metadata": {},
     "output_type": "execute_result"
    }
   ],
   "source": [
    "df[\"sepal-length\"]"
   ]
  },
  {
   "cell_type": "markdown",
   "id": "571aafb7-c159-474e-a9a2-dc1670c25b2d",
   "metadata": {},
   "source": [
    "Selecting via [], which slices the rows:"
   ]
  },
  {
   "cell_type": "code",
   "execution_count": 17,
   "id": "d32f3b52",
   "metadata": {},
   "outputs": [
    {
     "data": {
      "text/html": [
       "<div>\n",
       "<style scoped>\n",
       "    .dataframe tbody tr th:only-of-type {\n",
       "        vertical-align: middle;\n",
       "    }\n",
       "\n",
       "    .dataframe tbody tr th {\n",
       "        vertical-align: top;\n",
       "    }\n",
       "\n",
       "    .dataframe thead th {\n",
       "        text-align: right;\n",
       "    }\n",
       "</style>\n",
       "<table border=\"1\" class=\"dataframe\">\n",
       "  <thead>\n",
       "    <tr style=\"text-align: right;\">\n",
       "      <th></th>\n",
       "      <th>sepal-length</th>\n",
       "      <th>sepal-width</th>\n",
       "      <th>petal-length</th>\n",
       "      <th>petal-width</th>\n",
       "      <th>species</th>\n",
       "    </tr>\n",
       "  </thead>\n",
       "  <tbody>\n",
       "    <tr>\n",
       "      <th>0</th>\n",
       "      <td>5.1</td>\n",
       "      <td>3.5</td>\n",
       "      <td>1.4</td>\n",
       "      <td>0.2</td>\n",
       "      <td>Iris-setosa</td>\n",
       "    </tr>\n",
       "    <tr>\n",
       "      <th>1</th>\n",
       "      <td>4.9</td>\n",
       "      <td>3.0</td>\n",
       "      <td>1.4</td>\n",
       "      <td>0.2</td>\n",
       "      <td>Iris-setosa</td>\n",
       "    </tr>\n",
       "    <tr>\n",
       "      <th>2</th>\n",
       "      <td>4.7</td>\n",
       "      <td>3.2</td>\n",
       "      <td>1.3</td>\n",
       "      <td>0.2</td>\n",
       "      <td>Iris-setosa</td>\n",
       "    </tr>\n",
       "  </tbody>\n",
       "</table>\n",
       "</div>"
      ],
      "text/plain": [
       "   sepal-length  sepal-width  petal-length  petal-width      species\n",
       "0           5.1          3.5           1.4          0.2  Iris-setosa\n",
       "1           4.9          3.0           1.4          0.2  Iris-setosa\n",
       "2           4.7          3.2           1.3          0.2  Iris-setosa"
      ]
     },
     "execution_count": 17,
     "metadata": {},
     "output_type": "execute_result"
    }
   ],
   "source": [
    "df[0:3]"
   ]
  },
  {
   "cell_type": "markdown",
   "id": "4e11f4fc-4437-414a-a617-a6d8d517a894",
   "metadata": {},
   "source": [
    "Selection by label. For getting a cross section:"
   ]
  },
  {
   "cell_type": "code",
   "execution_count": 18,
   "id": "c7ade135",
   "metadata": {
    "tags": []
   },
   "outputs": [
    {
     "data": {
      "text/plain": [
       "sepal-length            5.1\n",
       "sepal-width             3.5\n",
       "petal-length            1.4\n",
       "petal-width             0.2\n",
       "species         Iris-setosa\n",
       "Name: 0, dtype: object"
      ]
     },
     "execution_count": 18,
     "metadata": {},
     "output_type": "execute_result"
    }
   ],
   "source": [
    "df.loc[0]"
   ]
  },
  {
   "cell_type": "markdown",
   "id": "59ad9bc6-0419-4745-8764-29173de4269f",
   "metadata": {},
   "source": [
    "Selecting on a multi-axis by label"
   ]
  },
  {
   "cell_type": "code",
   "execution_count": 19,
   "id": "b2ffc68a",
   "metadata": {},
   "outputs": [
    {
     "data": {
      "text/html": [
       "<div>\n",
       "<style scoped>\n",
       "    .dataframe tbody tr th:only-of-type {\n",
       "        vertical-align: middle;\n",
       "    }\n",
       "\n",
       "    .dataframe tbody tr th {\n",
       "        vertical-align: top;\n",
       "    }\n",
       "\n",
       "    .dataframe thead th {\n",
       "        text-align: right;\n",
       "    }\n",
       "</style>\n",
       "<table border=\"1\" class=\"dataframe\">\n",
       "  <thead>\n",
       "    <tr style=\"text-align: right;\">\n",
       "      <th></th>\n",
       "      <th>sepal-length</th>\n",
       "      <th>sepal-width</th>\n",
       "    </tr>\n",
       "  </thead>\n",
       "  <tbody>\n",
       "    <tr>\n",
       "      <th>0</th>\n",
       "      <td>5.1</td>\n",
       "      <td>3.5</td>\n",
       "    </tr>\n",
       "    <tr>\n",
       "      <th>1</th>\n",
       "      <td>4.9</td>\n",
       "      <td>3.0</td>\n",
       "    </tr>\n",
       "    <tr>\n",
       "      <th>2</th>\n",
       "      <td>4.7</td>\n",
       "      <td>3.2</td>\n",
       "    </tr>\n",
       "    <tr>\n",
       "      <th>3</th>\n",
       "      <td>4.6</td>\n",
       "      <td>3.1</td>\n",
       "    </tr>\n",
       "    <tr>\n",
       "      <th>4</th>\n",
       "      <td>5.0</td>\n",
       "      <td>3.6</td>\n",
       "    </tr>\n",
       "    <tr>\n",
       "      <th>...</th>\n",
       "      <td>...</td>\n",
       "      <td>...</td>\n",
       "    </tr>\n",
       "    <tr>\n",
       "      <th>145</th>\n",
       "      <td>6.7</td>\n",
       "      <td>3.0</td>\n",
       "    </tr>\n",
       "    <tr>\n",
       "      <th>146</th>\n",
       "      <td>6.3</td>\n",
       "      <td>2.5</td>\n",
       "    </tr>\n",
       "    <tr>\n",
       "      <th>147</th>\n",
       "      <td>6.5</td>\n",
       "      <td>3.0</td>\n",
       "    </tr>\n",
       "    <tr>\n",
       "      <th>148</th>\n",
       "      <td>6.2</td>\n",
       "      <td>3.4</td>\n",
       "    </tr>\n",
       "    <tr>\n",
       "      <th>149</th>\n",
       "      <td>5.9</td>\n",
       "      <td>3.0</td>\n",
       "    </tr>\n",
       "  </tbody>\n",
       "</table>\n",
       "<p>150 rows × 2 columns</p>\n",
       "</div>"
      ],
      "text/plain": [
       "     sepal-length  sepal-width\n",
       "0             5.1          3.5\n",
       "1             4.9          3.0\n",
       "2             4.7          3.2\n",
       "3             4.6          3.1\n",
       "4             5.0          3.6\n",
       "..            ...          ...\n",
       "145           6.7          3.0\n",
       "146           6.3          2.5\n",
       "147           6.5          3.0\n",
       "148           6.2          3.4\n",
       "149           5.9          3.0\n",
       "\n",
       "[150 rows x 2 columns]"
      ]
     },
     "execution_count": 19,
     "metadata": {},
     "output_type": "execute_result"
    }
   ],
   "source": [
    "df.loc[:, [\"sepal-length\", \"sepal-width\"]]"
   ]
  },
  {
   "cell_type": "markdown",
   "id": "d4f70dad-faf0-42b1-aacb-5248dde3965c",
   "metadata": {},
   "source": [
    "If one needs to get the total number of null values in a data, we can use df.isna() as below. Sum will give the total null values. If we want just one variable null values, we can also get it by giving the name of the variable as below."
   ]
  },
  {
   "cell_type": "code",
   "execution_count": 20,
   "id": "e79505c0",
   "metadata": {},
   "outputs": [
    {
     "data": {
      "text/plain": [
       "sepal-length    0\n",
       "sepal-width     0\n",
       "petal-length    0\n",
       "petal-width     0\n",
       "species         0\n",
       "dtype: int64"
      ]
     },
     "execution_count": 20,
     "metadata": {},
     "output_type": "execute_result"
    }
   ],
   "source": [
    "df.isna().sum()"
   ]
  },
  {
   "cell_type": "markdown",
   "id": "75df90e5-f965-4e38-90cc-386d95983007",
   "metadata": {},
   "source": [
    "### Create and show histograms"
   ]
  },
  {
   "cell_type": "markdown",
   "id": "b1959a19-0ae7-4125-9e85-b8593618bf94",
   "metadata": {},
   "source": [
    "A histogram is a graph that shows the frequency of numerical data using rectangles. The height of a rectangle (the vertical axis) represents the distribution frequency of a variable (the amount, or how often that variable appears)."
   ]
  },
  {
   "cell_type": "markdown",
   "id": "4395a925-a486-4c97-98a4-0f1a5333642f",
   "metadata": {},
   "source": [
    "Each plot is of all 150 data elements"
   ]
  },
  {
   "cell_type": "code",
   "execution_count": 21,
   "id": "edefdfc5-bcd8-4bf3-a82b-6b2fd4b96638",
   "metadata": {},
   "outputs": [
    {
     "data": {
      "image/png": "[encoded data removed]",
      "text/plain": [
       "<Figure size 640x480 with 4 Axes>"
      ]
     },
     "metadata": {},
     "output_type": "display_data"
    }
   ],
   "source": [
    "iris.hist()\n",
    "plt.show()"
   ]
  },
  {
   "cell_type": "markdown",
   "id": "fe85ede2-df3a-4085-854f-5fd0c48726e8",
   "metadata": {},
   "source": [
    "### scatterplot"
   ]
  },
  {
   "cell_type": "markdown",
   "id": "74cb9adc-eedb-4f60-9076-891c44afea37",
   "metadata": {},
   "source": [
    " A scatter plot (aka scatter chart, scatter graph) uses dots to represent values for two different numeric variables. The position of each dot on the horizontal and vertical axis indicates values for an individual data point. Scatter plots are used to observe relationships between variables."
   ]
  },
  {
   "cell_type": "markdown",
   "id": "81a95931-abd5-419d-b306-d5fb9c5765b2",
   "metadata": {},
   "source": [
    "Use seaborn's FacetGrid to color the scatterplot by species"
   ]
  },
  {
   "cell_type": "code",
   "execution_count": 30,
   "id": "59f238a5-2e0e-478f-9d6e-b490f092dae1",
   "metadata": {},
   "outputs": [
    {
     "data": {
      "text/plain": [
       "<seaborn.axisgrid.FacetGrid at 0x400511a2f0>"
      ]
     },
     "execution_count": 30,
     "metadata": {},
     "output_type": "execute_result"
    },
    {
     "data": {
      "image/png": "[encoded data removed]",
      "text/plain": [
       "<Figure size 743x600 with 1 Axes>"
      ]
     },
     "metadata": {},
     "output_type": "display_data"
    }
   ],
   "source": [
    "sns.FacetGrid(iris, hue=\"species\", height=6) \\\n",
    "   .map(plt.scatter, \"sepal-length\", \"sepal-width\") \\\n",
    "   .add_legend()"
   ]
  },
  {
   "cell_type": "code",
   "execution_count": null,
   "id": "0a0e7e47-9e6b-4e7b-a8ee-4f153068ac94",
   "metadata": {},
   "outputs": [],
   "source": []
  }
 ],
 "metadata": {
  "kernelspec": {
   "display_name": "Python 3 (ipykernel)",
   "language": "python",
   "name": "python3"
  },
  "language_info": {
   "codemirror_mode": {
    "name": "ipython",
    "version": 3
   },
   "file_extension": ".py",
   "mimetype": "text/x-python",
   "name": "python",
   "nbconvert_exporter": "python",
   "pygments_lexer": "ipython3",
   "version": "3.10.6"
  }
 },
 "nbformat": 4,
 "nbformat_minor": 5
}
